{
 "cells": [
  {
   "cell_type": "code",
   "execution_count": 1,
   "id": "662a974d",
   "metadata": {},
   "outputs": [],
   "source": [
    "# Load packages\n",
    "import os\n",
    "import pandas as pd\n",
    "\n",
    "# Change Directory and import datasets\n",
    "\n",
    "os.chdir('\\\\Users\\Shanta\\Desktop\\Forage Accenture Project')"
   ]
  },
  {
   "cell_type": "markdown",
   "id": "fa5ac21d",
   "metadata": {},
   "source": [
    "Set up Python environment and load the necessary datasets"
   ]
  },
  {
   "cell_type": "code",
   "execution_count": 2,
   "id": "c8242744",
   "metadata": {},
   "outputs": [],
   "source": [
    "# Datasets needed to answer question - ReactionTypes has the metric of popularity\n",
    "# Reaction has the main data with the type specified but missing a metric\n",
    "# Content identifies all the categories of interest\n",
    "# Need to merge to align categories with their scores\n",
    "reaction = pd.read_csv('Reactions.csv')\n",
    "content = pd.read_csv('Content.csv')\n",
    "reactionTypes = pd.read_csv('ReactionTypes.csv')"
   ]
  },
  {
   "cell_type": "markdown",
   "id": "eb72aa31",
   "metadata": {},
   "source": [
    "Clean data and merge datasets together to form connections"
   ]
  },
  {
   "cell_type": "code",
   "execution_count": 3,
   "id": "3909e2bd",
   "metadata": {},
   "outputs": [],
   "source": [
    "# Remove rows that have NaN for reaction type\n",
    "reactionClean = reaction.dropna(subset=['Type'])\n",
    "#print((reactionClean['Type'].unique()))\n",
    "\n",
    "# Merge reaction and content to identify the categories of the content, left join as the reactions is the main data\n",
    "reactionContent = reactionClean.merge(content, left_on = 'Content ID', right_on='Content ID')\n",
    "\n",
    "# Merge reactionTypes data to add scores and sentiment to merged content and reaction table\n",
    "reactionContentScore = reactionContent.merge(reactionTypes, left_on = 'Type_x', right_on='Type')"
   ]
  },
  {
   "cell_type": "code",
   "execution_count": 4,
   "id": "cf848a24",
   "metadata": {},
   "outputs": [],
   "source": [
    "# Remove some columns\n",
    "rCS = reactionContentScore.drop(['Datetime','Unnamed: 0_y','URL', 'Unnamed: 0_x', 'Unnamed: 0', 'Type', 'User ID_x', 'User ID_y'], axis=1)\n",
    "rCS_renamed = rCS.rename(columns={\"Type_x\":\"Reaction Type\", \"Type_y\":\"Content Type\"})\n",
    "\n",
    "# Clean categories by removing quotes, lower casing all categories for consistency\n",
    "rCS_renamed['Category'] = rCS_renamed['Category'].str.replace('\"','')\n",
    "rCS_renamed['Category'] = rCS_renamed['Category'].str.lower()"
   ]
  },
  {
   "cell_type": "markdown",
   "id": "2b652707",
   "metadata": {},
   "source": [
    "Creating a \"ranked\" dataframe by using the 'groupby()' function"
   ]
  },
  {
   "cell_type": "code",
   "execution_count": 5,
   "id": "f290260a",
   "metadata": {},
   "outputs": [],
   "source": [
    "# Rank the Categories by sum of score descending\n",
    "rCS_ranked = rCS_renamed.groupby('Category')['Score'].sum().sort_values(ascending=False)"
   ]
  },
  {
   "cell_type": "markdown",
   "id": "f5ea1be0",
   "metadata": {},
   "source": [
    "Now that final dataset is created, save the dataframes to '.csv' files"
   ]
  },
  {
   "cell_type": "code",
   "execution_count": 6,
   "id": "c6545aae",
   "metadata": {},
   "outputs": [],
   "source": [
    "rCS_renamed.to_csv (r'C:\\Users\\Shanta\\Desktop\\Forage Accenture Project\\rcs_renamed.csv', index = True, header=True)\n",
    "rCS_ranked.to_csv (r'C:\\Users\\Shanta\\Desktop\\Forage Accenture Project\\rcs_ranked.csv', index = True, header=True)"
   ]
  }
 ],
 "metadata": {
  "kernelspec": {
   "display_name": "Python 3 (ipykernel)",
   "language": "python",
   "name": "python3"
  },
  "language_info": {
   "codemirror_mode": {
    "name": "ipython",
    "version": 3
   },
   "file_extension": ".py",
   "mimetype": "text/x-python",
   "name": "python",
   "nbconvert_exporter": "python",
   "pygments_lexer": "ipython3",
   "version": "3.9.7"
  }
 },
 "nbformat": 4,
 "nbformat_minor": 5
}
